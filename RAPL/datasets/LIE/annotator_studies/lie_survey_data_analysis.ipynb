{
 "cells": [
  {
   "cell_type": "code",
   "execution_count": 207,
   "id": "74980996-6085-4006-93c2-283f3927ff0c",
   "metadata": {},
   "outputs": [],
   "source": [
    "import pandas as pd\n",
    "import numpy as np\n",
    "from statsmodels.stats.proportion import proportion_confint\n",
    "import matplotlib.pyplot as plt\n",
    "import re"
   ]
  },
  {
   "cell_type": "code",
   "execution_count": 208,
   "id": "82f6ad35-768e-488c-ac8a-39820af2a4a3",
   "metadata": {},
   "outputs": [],
   "source": [
    "pd.set_option('display.max_columns', None)\n",
    "pd.set_option('display.max_rows', None)\n",
    "pd.set_option('display.width', 100000)\n",
    "pd.set_option('display.max_colwidth', None)  "
   ]
  },
  {
   "cell_type": "code",
   "execution_count": 209,
   "id": "3e318bc6-0cf8-4f1c-95c1-e82544166d2a",
   "metadata": {},
   "outputs": [],
   "source": [
    "data = pd.read_csv(\"raw_llama70b_full_part1.csv\")\n",
    "data1 = pd.read_csv(\"raw_llama70b_full_part2.csv\")\n",
    "data2 = pd.read_csv(\"raw_llama70b_full_part3.csv\")"
   ]
  },
  {
   "cell_type": "code",
   "execution_count": 210,
   "id": "33f1be2b-1fc6-474b-a9ea-0042a9055540",
   "metadata": {},
   "outputs": [
    {
     "data": {
      "text/plain": [
       "(1000, 28)"
      ]
     },
     "execution_count": 210,
     "metadata": {},
     "output_type": "execute_result"
    }
   ],
   "source": [
    "# TRAIN_PATH = \"train_llama3-70b_regenerated_detailed.csv\"\n",
    "TRAIN_PATH = \"LIE_dataset.csv\"\n",
    "train_df = pd.read_csv(TRAIN_PATH)\n",
    "train_df.shape"
   ]
  },
  {
   "cell_type": "code",
   "execution_count": 211,
   "id": "12f1bff2-259d-40f9-b9e4-1cf31274e4df",
   "metadata": {},
   "outputs": [],
   "source": [
    "cols_to_drop = ['StartDate', 'EndDate', 'Status', 'IPAddress', 'Progress',\n",
    "       'Duration (in seconds)', 'Finished', 'RecordedDate', 'ResponseId',\n",
    "       'RecipientLastName', 'RecipientFirstName', 'RecipientEmail',\n",
    "       'ExternalReference', 'LocationLatitude', 'LocationLongitude',\n",
    "       'DistributionChannel', 'UserLanguage', 'Q_RecaptchaScore', 'Q_RelevantIDDuplicate', 'Q_RelevantIDDuplicateScore',\n",
    "        'Q_RelevantIDFraudScore',\n",
    "         'Q_RelevantIDLastStartDate',\n",
    "         '44_1',\n",
    "         '47_1',\n",
    "         '26_1',\n",
    "         '53_1',\n",
    "         '37_1',\n",
    "         'Q60',\n",
    "         'participantId',\n",
    "         'assignmentId',\n",
    "         'projectId',\n",
    "         'incorrect1',\n",
    "         'incorrect2',\n",
    "         'incorrect3',\n",
    "         'incorrect4',\n",
    "         'incorrect5',\n",
    "         'incorrect',\n",
    "         'Create New Field or Choose From Dropdown...']"
   ]
  },
  {
   "cell_type": "code",
   "execution_count": 212,
   "id": "cba1664b-146a-4212-8236-4e25df6a1b4f",
   "metadata": {},
   "outputs": [],
   "source": [
    "updated_data_df1 = data1.drop(cols_to_drop, axis=1)\n",
    "updated_data_df2 = data2.drop(cols_to_drop, axis=1)\n",
    "cols_to_drop.remove('Create New Field or Choose From Dropdown...')\n",
    "updated_data_df = data.drop(cols_to_drop, axis=1)"
   ]
  },
  {
   "cell_type": "code",
   "execution_count": 213,
   "id": "4ce4f795-176e-4510-946f-4b98d8bead1b",
   "metadata": {},
   "outputs": [],
   "source": [
    "updated_data_df = pd.concat([updated_data_df, updated_data_df1, updated_data_df2]) "
   ]
  },
  {
   "cell_type": "code",
   "execution_count": 214,
   "id": "92552f43-4bb7-4fda-a4de-fc8559046514",
   "metadata": {
    "scrolled": true
   },
   "outputs": [],
   "source": [
    "decision_time = {}\n",
    "num_clicks = {}\n",
    "scratch_space = {}\n",
    "for i in range(0, updated_data_df.shape[1], 6):\n",
    "    question_col = updated_data_df.columns[i]\n",
    "    assert \"First Click\" in updated_data_df.columns.values[i + 1]\n",
    "    assert \"Last Click\" in updated_data_df.columns.values[i + 2]\n",
    "    assert \"Click Count\" in updated_data_df.columns.values[i + 4]\n",
    "    assert \"scratch\" in updated_data_df.columns.values[i + 5]\n",
    "    \n",
    "    first_click = updated_data_df[updated_data_df.columns.values[i + 1]].drop([0,1]).fillna(0).astype(float).sum()\n",
    "    last_click = updated_data_df[updated_data_df.columns.values[i + 2]].drop([0,1]).fillna(0).astype(float).sum()\n",
    "    decision_time[question_col] = last_click-first_click\n",
    "    num_clicks[question_col] = updated_data_df[updated_data_df.columns.values[i + 4]].drop([0,1]).fillna(0).astype(float).sum()\n",
    "    question_col_series = updated_data_df[updated_data_df.columns.values[i + 5]].drop([0,1])\n",
    "    first_valid_index = question_col_series.dropna().first_valid_index()\n",
    "    non_null_string = question_col_series[first_valid_index].values[0] if first_valid_index is not None else None\n",
    "    scratch_space[question_col] = non_null_string"
   ]
  },
  {
   "cell_type": "code",
   "execution_count": 215,
   "id": "76487633-c8df-4590-9688-0b2060975a82",
   "metadata": {},
   "outputs": [],
   "source": [
    "updated_data_df = updated_data_df.loc[:, ~updated_data_df.columns.str.contains('Click')]\n",
    "updated_data_df = updated_data_df.loc[:, ~updated_data_df.columns.str.contains('Submit')]\n",
    "updated_data_df = updated_data_df.loc[:, ~updated_data_df.columns.str.contains('scratch')]"
   ]
  },
  {
   "cell_type": "code",
   "execution_count": 216,
   "id": "518f4aa9-9e5b-4fc7-92a9-adcf58f422a5",
   "metadata": {},
   "outputs": [],
   "source": [
    "updated_data_df_id_to_train_id = {}\n",
    "index_to_combined_row = {}\n",
    "\n",
    "def parse_input(text, df):\n",
    "    user_pattern = r\"User: (.*?)\\n\\nResponse A:\"\n",
    "    response_a_pattern = r\"Response A: (.*?)\\nResponse B:\"\n",
    "    response_b_pattern = r\"Response B: (.*)\\n\\nChoose\"\n",
    "\n",
    "    user = re.search(user_pattern, text, re.S)\n",
    "    response_a = re.search(response_a_pattern, text, re.S)\n",
    "    response_b = re.search(response_b_pattern, text, re.S)\n",
    "\n",
    "    user_text = user.group(1).strip() if user else None\n",
    "    response_a_text = response_a.group(1).strip() if response_a else None\n",
    "    response_b_text = response_b.group(1).strip() if response_b else None\n",
    "    return user_text, response_a_text, response_b_text\n",
    "\n",
    "def parse_input_to_row(text, df):\n",
    "    user_pattern = r\"User: (.*?)\\n\\nResponse A:\"\n",
    "    response_a_pattern = r\"Response A: (.*?)\\nResponse B:\"\n",
    "    response_b_pattern = r\"Response B: (.*)\\n\\nChoose\"\n",
    "\n",
    "    user = re.search(user_pattern, text, re.S)\n",
    "    response_a = re.search(response_a_pattern, text, re.S)\n",
    "    response_b = re.search(response_b_pattern, text, re.S)\n",
    "\n",
    "    user_text = user.group(1).strip() if user else None\n",
    "    response_a_text = response_a.group(1).strip() if response_a else None\n",
    "    response_b_text = response_b.group(1).strip() if response_b else None\n",
    "\n",
    "    row = df[(df[\"questions\"] == user_text) & (df[\"choice1\"] == response_a_text) & (df[\"choice2\"] == response_b_text)]\n",
    "\n",
    "    return row\n",
    "\n",
    "failures = []\n",
    "for col in updated_data_df.columns:\n",
    "    try:\n",
    "        ID = col.split(\"_\")[0]\n",
    "        row = train_df[train_df[\"tag_IDs\"]==int(ID)]\n",
    "        updated_data_df_id_to_train_id[col] = row.index[0]\n",
    "        index_to_combined_row[row.index[0]] = col\n",
    "    except:\n",
    "        failures.append(col)"
   ]
  },
  {
   "cell_type": "code",
   "execution_count": 217,
   "id": "b4280671-65c2-4649-8722-e1cd165bfde7",
   "metadata": {},
   "outputs": [],
   "source": [
    "updated_data_df = updated_data_df.drop([0, 1])\n",
    "updated_data_df = updated_data_df.reset_index(drop=True)\n",
    "updated_data_df = updated_data_df.fillna(0)\n",
    "updated_data_df = updated_data_df.astype(int)"
   ]
  },
  {
   "cell_type": "code",
   "execution_count": 218,
   "id": "904dbcd2-546d-489d-bde2-258106402346",
   "metadata": {},
   "outputs": [
    {
     "name": "stdout",
     "output_type": "stream",
     "text": [
      "[]\n"
     ]
    }
   ],
   "source": [
    "non_zero_counts = updated_data_df.apply(np.count_nonzero)\n",
    "columns_with_only_zeros = non_zero_counts[non_zero_counts < 1].index.tolist()\n",
    "print(columns_with_only_zeros)\n",
    "updated_data_df = updated_data_df.drop(columns_with_only_zeros, axis=1)"
   ]
  },
  {
   "cell_type": "code",
   "execution_count": 219,
   "id": "91ea4875-6e90-4981-939b-9393eb7c9bf0",
   "metadata": {},
   "outputs": [
    {
     "name": "stdout",
     "output_type": "stream",
     "text": [
      "0\n"
     ]
    }
   ],
   "source": [
    "non_zero_counts = updated_data_df.apply(np.count_nonzero)\n",
    "columns_with_more_than_one_non_zero = non_zero_counts[non_zero_counts > 1].index.tolist()\n",
    "print(len(columns_with_more_than_one_non_zero))"
   ]
  },
  {
   "cell_type": "code",
   "execution_count": 220,
   "id": "f3c4a6b6-ac9f-43d5-b508-cb8c8394ec01",
   "metadata": {},
   "outputs": [
    {
     "data": {
      "text/plain": [
       "(0, 1000)"
      ]
     },
     "execution_count": 220,
     "metadata": {},
     "output_type": "execute_result"
    }
   ],
   "source": [
    "non_zero_counts_per_row = updated_data_df.apply(np.count_nonzero, axis=1)\n",
    "filtered_rows = updated_data_df.loc[non_zero_counts_per_row > 50]\n",
    "filtered_rows.shape"
   ]
  },
  {
   "cell_type": "code",
   "execution_count": 221,
   "id": "87815cc0-8373-4763-aadb-a88e768c8b55",
   "metadata": {},
   "outputs": [],
   "source": [
    "combined_row = updated_data_df.agg(['sum'])\n",
    "combined_row = combined_row.reset_index(drop=True)"
   ]
  },
  {
   "cell_type": "code",
   "execution_count": 222,
   "id": "9b9ede36-a4b2-4874-bb92-55f2cb97c50e",
   "metadata": {},
   "outputs": [
    {
     "data": {
      "text/plain": [
       "(1, 1000)"
      ]
     },
     "execution_count": 222,
     "metadata": {},
     "output_type": "execute_result"
    }
   ],
   "source": [
    "combined_row.shape"
   ]
  },
  {
   "cell_type": "code",
   "execution_count": 223,
   "id": "83d4d98c-a32d-49d5-8801-5d704157b498",
   "metadata": {},
   "outputs": [],
   "source": [
    "tags = [tag[0:4] for tag in list(combined_row.columns)]"
   ]
  },
  {
   "cell_type": "code",
   "execution_count": 224,
   "id": "03c8001c-68f7-42d6-b946-aba9a2ab1d43",
   "metadata": {},
   "outputs": [],
   "source": [
    "# key_mapping = {\n",
    "#     \"1112\": \"A: Correct, concise. B: Correct, detailed.\",\n",
    "#     \"1121\": \"A: Correct, concise. B: Incorrect, concise.\",\n",
    "#     \"1122\": \"A: Correct, concise. B: Incorrect, detailed.\",\n",
    "#     \"1221\": \"A: Correct, detailed. B: Incorrect, concise.\",\n",
    "#     \"1222\": \"A: Correct, detailed. B: Incorrect, detailed.\",\n",
    "#     \"2122\": \"A: Incorrect, concise. B: Incorrect, detailed.\",\n",
    "#     \"1211\": \"A: Correct, detailed. B: Correct, concise.\",\n",
    "#     \"2111\": \"A: Incorrect, concise. B: Correct, concise.\",\n",
    "#     \"2211\": \"A: Incorrect, detailed. B: Correct, concise.\",\n",
    "#     \"2112\": \"A: Incorrect, concise. B: Correct, detailed.\",\n",
    "#     \"2212\": \"A: Incorrect, detailed. B: Correct, detailed.\",\n",
    "#     \"2221\": \"A: Incorrect, detailed. B: Incorrect, concise.\"\n",
    "# }\n",
    "\n",
    "key_mapping = {\n",
    "    \"1112\": \"A: ✓, Short. B: ✓, Long.\",\n",
    "    \"1121\": \"A: ✓, Short. B: ✗, Short.\",\n",
    "    \"1122\": \"A: ✓, Short. B: ✗, Long.\",\n",
    "    \"1221\": \"A: ✓, Long. B: ✗, Short.\",\n",
    "    \"1222\": \"A: ✓, Long. B: ✗, Long.\",\n",
    "    \"2122\": \"A: ✗, Short. B: ✗, Long.\",\n",
    "    \"1211\": \"A: ✓, Long. B: ✓, Short.\",\n",
    "    \"2111\": \"A: ✗, Short. B: ✓, Short.\",\n",
    "    \"2211\": \"A: ✗, Long. B: ✓, Short.\",\n",
    "    \"2112\": \"A: ✗, Short. B: ✓, Long.\",\n",
    "    \"2212\": \"A: ✗, Long. B: ✓, Long.\",\n",
    "    \"2221\": \"A: ✗, Long. B: ✗, Short.\"\n",
    "}"
   ]
  },
  {
   "cell_type": "markdown",
   "id": "624364e9-cac4-492b-9bc8-7ac42d17826f",
   "metadata": {},
   "source": [
    "Per-category likelihoods of correctness and average confidences"
   ]
  },
  {
   "cell_type": "code",
   "execution_count": 225,
   "id": "ed08d0ef-b09e-4267-8ff8-94f8bed44c4b",
   "metadata": {},
   "outputs": [],
   "source": [
    "def combine_reversed_entries(data):\n",
    "    combined_data = {}\n",
    "    already_combined = set()\n",
    "\n",
    "    for key1 in data:\n",
    "        if key1 in already_combined:\n",
    "            continue  \n",
    "        \n",
    "        reversed_key = key1[2:] + key1[:2]\n",
    "        \n",
    "        if reversed_key in data and reversed_key not in already_combined:\n",
    "            combined_count = data[key1] + data[reversed_key]\n",
    "            combined_data[key1] = combined_count  \n",
    "            \n",
    "            already_combined.add(key1)\n",
    "            already_combined.add(reversed_key)\n",
    "        else:\n",
    "            combined_data[key1] = data[key1]\n",
    "\n",
    "    return combined_data"
   ]
  },
  {
   "cell_type": "code",
   "execution_count": 226,
   "id": "33ae53a1-35ba-4f84-9d14-7ad415dab6e5",
   "metadata": {},
   "outputs": [],
   "source": [
    "# the preferred choice is either the correct one or the detailed one if factually correct\n",
    "def get_preferred_choice(tag):\n",
    "    if tag[0] == '1' and tag[2] == \"2\":\n",
    "        preferred_choice = 'A'\n",
    "    elif tag[2] == '1' and tag[0] == \"2\":\n",
    "        preferred_choice = 'B'\n",
    "    elif tag[1] == '2':  \n",
    "        preferred_choice = 'A'\n",
    "    else:  \n",
    "        preferred_choice = 'B'\n",
    "\n",
    "    return preferred_choice"
   ]
  },
  {
   "cell_type": "code",
   "execution_count": 231,
   "id": "fbb92213-e5ce-47d1-98d5-d9deadd5796d",
   "metadata": {},
   "outputs": [],
   "source": [
    "def per_question_likelihood(column_name, df):\n",
    "    tag = column_name[0:4]\n",
    "    preferred_choice = get_preferred_choice(tag)\n",
    "    \n",
    "    score = df[column_name].iloc[0]\n",
    "    \n",
    "    if (preferred_choice == 'A' and 1 <= score <= 4) or (preferred_choice == 'B' and 5 <= score <= 8):\n",
    "        preferred_count = 1\n",
    "    else:\n",
    "        preferred_count = 0\n",
    "\n",
    "    return preferred_count\n",
    "\n",
    "def calculate_likelihoods(df):\n",
    "    total_counts = {}\n",
    "    correctness_counts = {}\n",
    "    for column_name in df.columns:\n",
    "        tag = column_name[0:4]\n",
    "        preferred_choice = get_preferred_choice(tag)\n",
    "        \n",
    "        scores = df[column_name].tolist()\n",
    "        total_counts[tag] = total_counts.get(tag, 0) + len(scores)\n",
    "\n",
    "        preferred_count = 0\n",
    "        for score in scores:\n",
    "            if (preferred_choice == 'A' and 1 <= score <= 4) or (preferred_choice == 'B' and 5 <= score <= 8):\n",
    "                preferred_count += 1\n",
    "\n",
    "        correctness_counts[tag] = correctness_counts.get(tag, 0) + preferred_count\n",
    "\n",
    "    correctness_counts = combine_reversed_entries(correctness_counts)\n",
    "    total_counts = combine_reversed_entries(total_counts)\n",
    "    \n",
    "    likelihood_results = {tag: (correctness_counts[tag] / total_counts[tag]) * 100 for tag in total_counts}\n",
    "    likelihood_confints = {}\n",
    "    for tag in total_counts:\n",
    "        likelihood_confints[tag] = proportion_confint(\n",
    "            correctness_counts[tag],\n",
    "            total_counts[tag],\n",
    "            alpha=0.1,\n",
    "        )\n",
    "    \n",
    "    return likelihood_results, likelihood_confints, correctness_counts, total_counts"
   ]
  },
  {
   "cell_type": "code",
   "execution_count": 232,
   "id": "a4c3e86e-11ed-49d8-b0c8-2f395d0e973a",
   "metadata": {},
   "outputs": [],
   "source": [
    "def normalize_confidence_scores(score):\n",
    "    if score <= 4:\n",
    "        return (4 - score) / 3  \n",
    "    else:\n",
    "        return (score - 5) / 3  \n",
    "\n",
    "def calculate_ci(scores, confidence=1.645):\n",
    "    mean_score = np.mean(scores)\n",
    "    std_dev = np.std(scores, ddof=1)  \n",
    "    n = len(scores)\n",
    "    sem = std_dev / np.sqrt(n)  \n",
    "    margin_error = sem * confidence\n",
    "    \n",
    "    lower_bound = mean_score - margin_error\n",
    "    upper_bound = mean_score + margin_error\n",
    "    \n",
    "    return (lower_bound, upper_bound)\n",
    "\n",
    "def calculate_normalized_average_confidence(df):\n",
    "    total_normalized_scores = {}\n",
    "    normalized_scores_by_tag = {}\n",
    "    response_counts = {}\n",
    "\n",
    "    for column_name in df:\n",
    "        tag = column_name[0:4]\n",
    "        scores = df[column_name].tolist()\n",
    "        response_counts[tag] = response_counts.get(tag, 0) + len(scores)\n",
    "\n",
    "        for score in scores:\n",
    "            normalized_score = normalize_confidence_scores(score)\n",
    "            total_normalized_scores[tag] = total_normalized_scores.get(tag, 0) + normalized_score\n",
    "            normalized_scores_by_tag.setdefault(tag, []).append(normalized_score)\n",
    "    \n",
    "    total_normalized_scores = combine_reversed_entries(total_normalized_scores)\n",
    "    normalized_scores_by_tag = combine_reversed_entries(normalized_scores_by_tag)\n",
    "    response_counts = combine_reversed_entries(response_counts)\n",
    "\n",
    "    average_normalized_scores = {}\n",
    "    confidence_int = {}\n",
    "    for tag, total_score in total_normalized_scores.items():\n",
    "        average_score = total_score / response_counts[tag] if response_counts[tag] > 0 else 0\n",
    "        average_normalized_scores[tag] = average_score\n",
    "        ci = calculate_ci(normalized_scores_by_tag[tag], 1.645)  \n",
    "        confidence_int[tag] = ci\n",
    "        \n",
    "    return average_normalized_scores, confidence_int"
   ]
  },
  {
   "cell_type": "code",
   "execution_count": 239,
   "id": "c2c3e7de-a688-4a52-bd7d-31dd5176e0a3",
   "metadata": {},
   "outputs": [],
   "source": [
    "likelihoods_unmapped, likelihood_confints, correctness_counts, counts_per_category = calculate_likelihoods(combined_row)\n",
    "likelihoods = {key_mapping[old_key]: value for old_key, value in likelihoods_unmapped.items()}\n",
    "likelihood_confints = {key_mapping[old_key]: value for old_key, value in likelihood_confints.items()}\n",
    "counts_per_category = {key_mapping[old_key]: value for old_key, value in counts_per_category.items()}\n",
    "correctness_counts = {key_mapping[old_key]: value for old_key, value in correctness_counts.items()}"
   ]
  },
  {
   "cell_type": "code",
   "execution_count": 240,
   "id": "8e39c50a-4430-4c5b-8e38-85bed14948f7",
   "metadata": {},
   "outputs": [],
   "source": [
    "average_confidences_unmapped, confidence_int = calculate_normalized_average_confidence(combined_row)\n",
    "average_confidences = {key_mapping[old_key]: value for old_key, value in average_confidences_unmapped.items()}\n",
    "confidence_int = {key_mapping[old_key]: value for old_key, value in confidence_int.items()}"
   ]
  },
  {
   "cell_type": "code",
   "execution_count": 241,
   "id": "4704bde5-6c36-41b1-b46d-a0d7f9ba4530",
   "metadata": {},
   "outputs": [
    {
     "data": {
      "text/plain": [
       "<Figure size 1000x600 with 0 Axes>"
      ]
     },
     "metadata": {},
     "output_type": "display_data"
    },
    {
     "data": {
      "image/png": "[encoded data removed]",
      "text/plain": [
       "<Figure size 640x480 with 2 Axes>"
      ]
     },
     "metadata": {},
     "output_type": "display_data"
    }
   ],
   "source": [
    "labels = average_confidences.keys()\n",
    "avg_conf_values = np.array([average_confidences[label] for label in labels])\n",
    "avg_confint_arr = np.array([confidence_int[label] for label in labels]).transpose()\n",
    "avg_confint_arr = np.abs(avg_confint_arr - avg_conf_values[None, :])\n",
    "\n",
    "likelihood_values = np.array([likelihoods[label] for label in labels])\n",
    "likelihood_confint_arr = np.array([likelihood_confints[label] for label in labels]).transpose()\n",
    "likelihood_confint_arr = np.abs(likelihood_confint_arr * 100 - likelihood_values[None, :])\n",
    "\n",
    "x = np.arange(len(labels))\n",
    "width = 0.35 \n",
    "\n",
    "plt.figure(figsize=(10, 6))\n",
    "\n",
    "fig, ax1 = plt.subplots()\n",
    "rects1 = ax1.bar(x - width/2, avg_conf_values, width, yerr=avg_confint_arr, label='Average Confidence', color='#F79646')\n",
    "\n",
    "ax2 = ax1.twinx() \n",
    "rects2 = ax2.bar(x + width/2, likelihood_values, width, yerr=likelihood_confint_arr, label='Likelihood of Expected Answer', color='#4BACC6')\n",
    "\n",
    "ax1.set_ylabel('Average Confidence', color='#F79646')\n",
    "ax2.set_ylabel('Likelihood of Expected Answer', color='#4BACC6')\n",
    "# ax1.set_title('Concise vs. Detailed Study')\n",
    "ax1.set_xticks(x)\n",
    "ax1.set_xticklabels(labels, rotation=45, ha='right', fontsize=10) \n",
    "\n",
    "for i, label in enumerate(ax1.get_xticklabels()):\n",
    "    if i == 0: \n",
    "        label.set_fontweight('bold')\n",
    "\n",
    "ax1.set_ylim(0, max(avg_conf_values) * 1.1)\n",
    "ax2.set_ylim(0, max(likelihood_values) * 1.1)\n",
    "\n",
    "ax1.legend(loc='upper left')\n",
    "ax2.legend(loc='upper right')\n",
    "\n",
    "# plt.savefig(\"avg_conf_and_likelihood.png\")\n",
    "plt.tight_layout()\n",
    "\n",
    "plt.savefig(\"avg_conf_and_likelihood.pdf\", format='pdf')\n",
    "\n",
    "plt.show()"
   ]
  },
  {
   "cell_type": "code",
   "execution_count": 242,
   "id": "339ea247-297d-4b94-8f05-da9b30eaaa8a",
   "metadata": {},
   "outputs": [
    {
     "data": {
      "text/plain": [
       "{'A: ✗, Long. B: ✓, Short.': 542,\n",
       " 'A: ✗, Long. B: ✗, Short.': 98,\n",
       " 'A: ✓, Short. B: ✓, Long.': 123,\n",
       " 'A: ✓, Long. B: ✗, Short.': 21,\n",
       " 'A: ✗, Long. B: ✓, Long.': 129,\n",
       " 'A: ✓, Short. B: ✗, Short.': 87}"
      ]
     },
     "execution_count": 242,
     "metadata": {},
     "output_type": "execute_result"
    }
   ],
   "source": [
    "counts_per_category"
   ]
  },
  {
   "cell_type": "code",
   "execution_count": 243,
   "id": "b8116c8d-5c33-4775-be80-8ece288fc349",
   "metadata": {},
   "outputs": [
    {
     "data": {
      "text/plain": [
       "{'A: ✗, Long. B: ✓, Short.': 188,\n",
       " 'A: ✗, Long. B: ✗, Short.': 74,\n",
       " 'A: ✓, Short. B: ✓, Long.': 101,\n",
       " 'A: ✓, Long. B: ✗, Short.': 19,\n",
       " 'A: ✗, Long. B: ✓, Long.': 74,\n",
       " 'A: ✓, Short. B: ✗, Short.': 52}"
      ]
     },
     "execution_count": 243,
     "metadata": {},
     "output_type": "execute_result"
    }
   ],
   "source": [
    "correctness_counts"
   ]
  },
  {
   "cell_type": "code",
   "execution_count": 183,
   "id": "7c6519b7-78fd-4949-b045-dd3f35ec79bd",
   "metadata": {},
   "outputs": [
    {
     "data": {
      "text/plain": [
       "<Figure size 1000x600 with 0 Axes>"
      ]
     },
     "metadata": {},
     "output_type": "display_data"
    },
    {
     "data": {
      "image/png": "[encoded data removed]",
      "text/plain": [
       "<Figure size 640x480 with 1 Axes>"
      ]
     },
     "metadata": {},
     "output_type": "display_data"
    }
   ],
   "source": [
    "labels = counts_per_category.keys()\n",
    "x = np.arange(len(labels))\n",
    "width = 0.35 \n",
    "\n",
    "total_category_count_values = np.array([counts_per_category[label] for label in labels])\n",
    "\n",
    "plt.figure(figsize=(10, 6))\n",
    "\n",
    "fig, ax = plt.subplots()\n",
    "rects1 = ax.bar(x - width/2, total_category_count_values, width)\n",
    "\n",
    "ax.set_ylabel('# of Questions')\n",
    "ax.set_title('Concise vs. Detailed Study')\n",
    "ax.set_xticks(x)\n",
    "ax.set_xticklabels(labels, rotation=45, ha='right', fontsize=10) \n",
    "\n",
    "plt.savefig(\"total_counts_per_category.png\")\n",
    "plt.show()"
   ]
  },
  {
   "cell_type": "code",
   "execution_count": 184,
   "id": "47b8bfca-71e8-4c88-8e61-dd83c7f3c5b5",
   "metadata": {},
   "outputs": [
    {
     "data": {
      "text/plain": [
       "{'A: ✗, Long. B: ✓, Short.': 34.686346863468636,\n",
       " 'A: ✗, Long. B: ✗, Short.': 75.51020408163265,\n",
       " 'A: ✓, Short. B: ✓, Long.': 82.11382113821138,\n",
       " 'A: ✓, Long. B: ✗, Short.': 90.47619047619048,\n",
       " 'A: ✗, Long. B: ✓, Long.': 57.36434108527132,\n",
       " 'A: ✓, Short. B: ✗, Short.': 59.77011494252874}"
      ]
     },
     "execution_count": 184,
     "metadata": {},
     "output_type": "execute_result"
    }
   ],
   "source": [
    "likelihoods"
   ]
  },
  {
   "cell_type": "markdown",
   "id": "5d5b2f19-501d-4d94-8042-f437359c73d1",
   "metadata": {},
   "source": [
    "Assign chosen and rejected values for train set"
   ]
  },
  {
   "cell_type": "code",
   "execution_count": 185,
   "id": "647fa0b9-ece5-4945-ae27-de1cdd101a46",
   "metadata": {},
   "outputs": [
    {
     "data": {
      "text/plain": [
       "(1000, 15)"
      ]
     },
     "execution_count": 185,
     "metadata": {},
     "output_type": "execute_result"
    }
   ],
   "source": [
    "train_df.shape"
   ]
  },
  {
   "cell_type": "code",
   "execution_count": 186,
   "id": "e2e3ddd4-9ed4-48d2-b43b-1e3fde2fccd3",
   "metadata": {},
   "outputs": [],
   "source": [
    "chosen = [None]*train_df.shape[0]\n",
    "rejected = [None]*train_df.shape[0]\n",
    "chosen_type = [None]*train_df.shape[0]\n",
    "rejected_type = [None]*train_df.shape[0]\n",
    "conf_scores = [None]*train_df.shape[0]\n",
    "conf_difficulty = [None]*train_df.shape[0]\n",
    "decision_times = [None]*train_df.shape[0]\n",
    "number_of_clicks = [None]*train_df.shape[0]\n",
    "scratch_space_lst = [None]*train_df.shape[0]\n",
    "\n",
    "train_df[\"chosen\"] = chosen\n",
    "train_df[\"rejected\"] = rejected\n",
    "train_df[\"chosen_type\"] = chosen_type\n",
    "train_df[\"rejected_type\"] = rejected_type\n",
    "train_df[\"confidence_scores\"] = conf_scores\n",
    "train_df[\"confidence_difficulty\"] = conf_difficulty\n",
    "train_df[\"decision_time\"] = decision_times\n",
    "train_df[\"number_of_clicks\"] = number_of_clicks\n",
    "train_df[\"scratch_space\"] = scratch_space_lst\n",
    "\n",
    "for index, col in index_to_combined_row.items():\n",
    "    row = train_df.iloc[index]\n",
    "    score = combined_row[col][0]\n",
    "    train_df.loc[index, \"confidence_scores\"] = normalize_confidence_scores(score)\n",
    "    train_df.loc[index, \"confidence_difficulty\"] = 1-normalize_confidence_scores(score)\n",
    "    train_df.loc[index, \"raw_number_of_clicks\"] = num_clicks[col]\n",
    "    train_df.loc[index, \"raw_decision_time\"] = decision_time[col]\n",
    "    train_df.loc[index, \"scratch_space\"] = scratch_space[col]\n",
    "    train_df.loc[index, \"prompt_response_group\"] = f\"Prompt: {row['prompt']}\\n\\nResponse A: {row['choice1']}\\n\\nResponse B: {row['choice2']}\"\n",
    "\n",
    "    if score <= 4:\n",
    "        train_df.loc[index, \"chosen\"] = f\"Human: {row['prompt']}\\n\\nAssistant: {row['choice1']}\"\n",
    "        train_df.loc[index, \"rejected\"] = f\"Human: {row['prompt']}\\n\\nAssistant: {row['choice2']}\"\n",
    "        train_df.loc[index, \"chosen_type\"] = row[\"choice1_type\"]\n",
    "        train_df.loc[index, \"rejected_type\"] = row[\"choice2_type\"]\n",
    "    else:\n",
    "        train_df.loc[index, \"chosen\"] = f\"Human: {row['prompt']}\\n\\nAssistant: {row['choice2']}\"\n",
    "        train_df.loc[index, \"rejected\"] = f\"Human: {row['prompt']}\\n\\nAssistant: {row['choice1']}\"\n",
    "        train_df.loc[index, \"chosen_type\"] = row[\"choice2_type\"]\n",
    "        train_df.loc[index, \"rejected_type\"] = row[\"choice1_type\"]\n",
    "    "
   ]
  },
  {
   "cell_type": "code",
   "execution_count": 187,
   "id": "9d742dc7-ff77-423e-bd8c-dc02976810e8",
   "metadata": {},
   "outputs": [],
   "source": [
    "# train_df[\"log_decision_time\"] = train_df[\"raw_decision_time\"].apply(lambda x: np.log1p(max(x, 0)))"
   ]
  },
  {
   "cell_type": "code",
   "execution_count": 188,
   "id": "2025c0b9-4c3a-4c85-93a4-df774226aa53",
   "metadata": {},
   "outputs": [],
   "source": [
    "train_df['decision_time'] = (train_df['raw_decision_time'] - train_df['raw_decision_time'].min()) / (train_df['raw_decision_time'].max() - train_df['raw_decision_time'].min())\n",
    "train_df['number_of_clicks'] = (train_df['raw_number_of_clicks'] - train_df['raw_number_of_clicks'].min()) / (train_df['raw_number_of_clicks'].max() - train_df['raw_number_of_clicks'].min())"
   ]
  },
  {
   "cell_type": "code",
   "execution_count": 190,
   "id": "31137efc-25b1-4840-a17d-50b897ceb056",
   "metadata": {},
   "outputs": [],
   "source": [
    "# train_df['log_norm_decision_time'] = (train_df['log_decision_time'] - train_df['log_decision_time'].min()) / (train_df['log_decision_time'].max() - train_df['log_decision_time'].min())"
   ]
  },
  {
   "cell_type": "code",
   "execution_count": 189,
   "id": "4beb7bd2-b23a-4615-9475-339aa037ce53",
   "metadata": {},
   "outputs": [],
   "source": [
    "# train_df[\"decision_time_beta\"] = 1-train_df['decision_time']\n",
    "# train_df[\"num_clicks_beta\"] = 1-train_df[\"number_of_clicks\"]"
   ]
  },
  {
   "cell_type": "code",
   "execution_count": 191,
   "id": "7f62c17c-6d67-4d87-a86f-064983988166",
   "metadata": {},
   "outputs": [],
   "source": [
    "# train_df[\"confidence_beta\"] = 1 - train_df[\"confidence_difficulty\"]"
   ]
  },
  {
   "cell_type": "code",
   "execution_count": 203,
   "id": "6920315d-ab6f-4a95-815e-68fb568ba49a",
   "metadata": {},
   "outputs": [],
   "source": [
    "train_df.to_csv(TRAIN_PATH, index=False)"
   ]
  },
  {
   "cell_type": "code",
   "execution_count": 192,
   "id": "698424aa-f342-456c-b04a-3d1378c1785e",
   "metadata": {},
   "outputs": [
    {
     "data": {
      "text/plain": [
       "(1000,)"
      ]
     },
     "execution_count": 192,
     "metadata": {},
     "output_type": "execute_result"
    }
   ],
   "source": [
    "train_df[\"number_of_clicks\"].dropna().shape"
   ]
  },
  {
   "cell_type": "code",
   "execution_count": 200,
   "id": "bf2066ce-e273-47df-af8f-b9673c117d6e",
   "metadata": {},
   "outputs": [
    {
     "data": {
      "text/plain": [
       "Index(['categories', 'correct_concise', 'incorrect_concise', 'correct_detailed', 'choice1_type', 'choice2_type', 'correct_statements', 'incorrect_statements', 'incorrect_detailed', 'IDs', 'tags', 'tag_IDs', 'choice1', 'choice2', 'prompt', 'chosen', 'rejected', 'chosen_type', 'rejected_type', 'confidence_scores', 'confidence_difficulty', 'decision_time', 'number_of_clicks', 'scratch_space', 'raw_number_of_clicks', 'raw_decision_time', 'prompt_response_group'], dtype='object')"
      ]
     },
     "execution_count": 200,
     "metadata": {},
     "output_type": "execute_result"
    }
   ],
   "source": [
    "train_df.columns"
   ]
  },
  {
   "cell_type": "code",
   "execution_count": 201,
   "id": "0094a267-b6eb-4972-a7e2-cd89da8adc0e",
   "metadata": {},
   "outputs": [
    {
     "data": {
      "text/plain": [
       "(1000, 27)"
      ]
     },
     "execution_count": 201,
     "metadata": {},
     "output_type": "execute_result"
    }
   ],
   "source": [
    "train_df.shape"
   ]
  },
  {
   "cell_type": "code",
   "execution_count": 202,
   "id": "6c3c6711-1fd8-40d8-ba1f-0d03ac98aac2",
   "metadata": {},
   "outputs": [
    {
     "data": {
      "text/plain": [
       "'LIE_dataset.csv'"
      ]
     },
     "execution_count": 202,
     "metadata": {},
     "output_type": "execute_result"
    }
   ],
   "source": [
    "TRAIN_PATH"
   ]
  },
  {
   "cell_type": "code",
   "execution_count": null,
   "id": "d006850c-0099-4696-88ed-b2974a64e4ad",
   "metadata": {},
   "outputs": [],
   "source": []
  }
 ],
 "metadata": {
  "kernelspec": {
   "display_name": "Python 3 (ipykernel)",
   "language": "python",
   "name": "python3"
  },
  "language_info": {
   "codemirror_mode": {
    "name": "ipython",
    "version": 3
   },
   "file_extension": ".py",
   "mimetype": "text/x-python",
   "name": "python",
   "nbconvert_exporter": "python",
   "pygments_lexer": "ipython3",
   "version": "3.11.7"
  }
 },
 "nbformat": 4,
 "nbformat_minor": 5
}

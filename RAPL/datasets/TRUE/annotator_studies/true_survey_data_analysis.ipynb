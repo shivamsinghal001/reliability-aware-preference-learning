{
 "cells": [
  {
   "cell_type": "code",
   "execution_count": 88,
   "id": "74980996-6085-4006-93c2-283f3927ff0c",
   "metadata": {},
   "outputs": [],
   "source": [
    "import pandas as pd\n",
    "import numpy as np\n",
    "from statsmodels.stats.proportion import proportion_confint\n",
    "import matplotlib.pyplot as plt\n",
    "import re"
   ]
  },
  {
   "cell_type": "code",
   "execution_count": 89,
   "id": "82f6ad35-768e-488c-ac8a-39820af2a4a3",
   "metadata": {},
   "outputs": [],
   "source": [
    "pd.set_option('display.max_columns', None)\n",
    "pd.set_option('display.max_rows', None)\n",
    "pd.set_option('display.width', 100000)\n",
    "pd.set_option('display.max_colwidth', None)  "
   ]
  },
  {
   "cell_type": "code",
   "execution_count": 90,
   "id": "3e318bc6-0cf8-4f1c-95c1-e82544166d2a",
   "metadata": {},
   "outputs": [
    {
     "data": {
      "text/plain": [
       "(5, 807)"
      ]
     },
     "execution_count": 90,
     "metadata": {},
     "output_type": "execute_result"
    }
   ],
   "source": [
    "# data = pd.read_csv(\"objective_annotator_study.csv\")\n",
    "data = pd.read_csv(\"bias_raw_data.csv\")\n",
    "data.shape"
   ]
  },
  {
   "cell_type": "code",
   "execution_count": 91,
   "id": "33f1be2b-1fc6-474b-a9ea-0042a9055540",
   "metadata": {},
   "outputs": [],
   "source": [
    "# TRAIN_PATH = \"objective_dataset.csv\"\n",
    "TRAIN_PATH = \"TRUE_bias.csv\"\n",
    "train_df = pd.read_csv(TRAIN_PATH)"
   ]
  },
  {
   "cell_type": "code",
   "execution_count": 92,
   "id": "12f1bff2-259d-40f9-b9e4-1cf31274e4df",
   "metadata": {},
   "outputs": [],
   "source": [
    "cols_to_drop = ['StartDate', 'EndDate', 'Status', 'IPAddress', 'Progress',\n",
    "       'Duration (in seconds)', 'Finished', 'RecordedDate', 'ResponseId',\n",
    "       'RecipientLastName', 'RecipientFirstName', 'RecipientEmail',\n",
    "       'ExternalReference', 'LocationLatitude', 'LocationLongitude',\n",
    "       'DistributionChannel', 'UserLanguage', 'Q_RecaptchaScore', 'Q_RelevantIDDuplicate', 'Q_RelevantIDDuplicateScore',\n",
    "        'Q_RelevantIDFraudScore',\n",
    "         'Q_RelevantIDLastStartDate',\n",
    "         '44_1',\n",
    "         '47_1',\n",
    "         '26_1',\n",
    "         '53_1',\n",
    "         '37_1',\n",
    "         'Q60',\n",
    "         'participantId',\n",
    "         'assignmentId',\n",
    "         'projectId',\n",
    "         'incorrect1',\n",
    "         'incorrect2',\n",
    "         'incorrect3',\n",
    "         'incorrect4',\n",
    "         'incorrect5',\n",
    "         'incorrect']"
   ]
  },
  {
   "cell_type": "code",
   "execution_count": 93,
   "id": "cba1664b-146a-4212-8236-4e25df6a1b4f",
   "metadata": {},
   "outputs": [],
   "source": [
    "cols_to_drop.extend([col for col in data.columns if col.startswith(\"Q\")])\n",
    "updated_data_df = data.drop(cols_to_drop, axis=1)"
   ]
  },
  {
   "cell_type": "code",
   "execution_count": 94,
   "id": "ccf28fb5-40a8-484e-83d4-f66033462a90",
   "metadata": {},
   "outputs": [
    {
     "data": {
      "text/plain": [
       "Index(['MC556412_1', 'MC556412t_First Click', 'MC556412t_Last Click', 'MC556412t_Page Submit', 'MC556412t_Click Count', 'MC587812_1', 'MC587812t_First Click', 'MC587812t_Last Click', 'MC587812t_Page Submit', 'MC587812t_Click Count',\n",
       "       ...\n",
       "       'MC574321_1', 'MC574321t_First Click', 'MC574321t_Last Click', 'MC574321t_Page Submit', 'MC574321t_Click Count', 'MC556112_1', 'MC556112t_First Click', 'MC556112t_Last Click', 'MC556112t_Page Submit', 'MC556112t_Click Count'], dtype='object', length=750)"
      ]
     },
     "execution_count": 94,
     "metadata": {},
     "output_type": "execute_result"
    }
   ],
   "source": [
    "updated_data_df.columns"
   ]
  },
  {
   "cell_type": "code",
   "execution_count": 95,
   "id": "92552f43-4bb7-4fda-a4de-fc8559046514",
   "metadata": {
    "scrolled": true
   },
   "outputs": [],
   "source": [
    "decision_time = {}\n",
    "num_clicks = {}\n",
    "for i in range(0, updated_data_df.shape[1], 5):\n",
    "    question_col = updated_data_df.columns[i]\n",
    "    assert \"First Click\" in updated_data_df.columns.values[i + 1]\n",
    "    assert \"Last Click\" in updated_data_df.columns.values[i + 2]\n",
    "    assert \"Page Submit\" in updated_data_df.columns.values[i + 3]\n",
    "    assert \"Click Count\" in updated_data_df.columns.values[i + 4]\n",
    "    \n",
    "    first_click = updated_data_df[updated_data_df.columns.values[i + 1]].drop([0,1]).fillna(0).astype(float).sum()\n",
    "    last_click = updated_data_df[updated_data_df.columns.values[i + 2]].drop([0,1]).fillna(0).astype(float).sum()\n",
    "    page_submit = updated_data_df[updated_data_df.columns.values[i + 3]].drop([0,1]).fillna(0).astype(float).sum()\n",
    "\n",
    "    decision_time[question_col] = page_submit-first_click\n",
    "    num_clicks[question_col] = updated_data_df[updated_data_df.columns.values[i + 4]].drop([0,1]).fillna(0).astype(float).sum()"
   ]
  },
  {
   "cell_type": "code",
   "execution_count": 96,
   "id": "76487633-c8df-4590-9688-0b2060975a82",
   "metadata": {},
   "outputs": [],
   "source": [
    "updated_data_df = updated_data_df.loc[:, ~updated_data_df.columns.str.contains('Click')]\n",
    "updated_data_df = updated_data_df.loc[:, ~updated_data_df.columns.str.contains('Submit')]"
   ]
  },
  {
   "cell_type": "code",
   "execution_count": 97,
   "id": "b4280671-65c2-4649-8722-e1cd165bfde7",
   "metadata": {},
   "outputs": [],
   "source": [
    "updated_data_df = updated_data_df.drop([0, 1])\n",
    "updated_data_df = updated_data_df.reset_index(drop=True)\n",
    "updated_data_df = updated_data_df.fillna(0)\n",
    "updated_data_df = updated_data_df.astype(int)"
   ]
  },
  {
   "cell_type": "code",
   "execution_count": 98,
   "id": "904dbcd2-546d-489d-bde2-258106402346",
   "metadata": {},
   "outputs": [
    {
     "name": "stdout",
     "output_type": "stream",
     "text": [
      "0\n"
     ]
    }
   ],
   "source": [
    "non_zero_counts = updated_data_df.apply(np.count_nonzero)\n",
    "columns_with_only_zeros = non_zero_counts[non_zero_counts < 1].index.tolist()\n",
    "print(len(columns_with_only_zeros))\n",
    "updated_data_df = updated_data_df.drop(columns_with_only_zeros, axis=1)"
   ]
  },
  {
   "cell_type": "code",
   "execution_count": 99,
   "id": "f21efd28-2106-4fee-9d48-4986e8118d50",
   "metadata": {},
   "outputs": [
    {
     "data": {
      "text/plain": [
       "[]"
      ]
     },
     "execution_count": 99,
     "metadata": {},
     "output_type": "execute_result"
    }
   ],
   "source": [
    "columns_with_only_zeros"
   ]
  },
  {
   "cell_type": "code",
   "execution_count": 100,
   "id": "91ea4875-6e90-4981-939b-9393eb7c9bf0",
   "metadata": {},
   "outputs": [
    {
     "name": "stdout",
     "output_type": "stream",
     "text": [
      "0\n"
     ]
    }
   ],
   "source": [
    "non_zero_counts = updated_data_df.apply(np.count_nonzero)\n",
    "columns_with_more_than_one_non_zero = non_zero_counts[non_zero_counts > 1].index.tolist()\n",
    "print(len(columns_with_more_than_one_non_zero))\n",
    "updated_data_df = updated_data_df.drop(columns_with_more_than_one_non_zero, axis=1)"
   ]
  },
  {
   "cell_type": "code",
   "execution_count": 101,
   "id": "f3c4a6b6-ac9f-43d5-b508-cb8c8394ec01",
   "metadata": {},
   "outputs": [
    {
     "data": {
      "text/plain": [
       "(0, 150)"
      ]
     },
     "execution_count": 101,
     "metadata": {},
     "output_type": "execute_result"
    }
   ],
   "source": [
    "non_zero_counts_per_row = updated_data_df.apply(np.count_nonzero, axis=1)\n",
    "filtered_rows = updated_data_df.loc[non_zero_counts_per_row > 50]\n",
    "filtered_rows.shape"
   ]
  },
  {
   "cell_type": "code",
   "execution_count": 102,
   "id": "87815cc0-8373-4763-aadb-a88e768c8b55",
   "metadata": {},
   "outputs": [],
   "source": [
    "combined_row = updated_data_df.agg(['sum'])\n",
    "combined_row = combined_row.reset_index(drop=True)"
   ]
  },
  {
   "cell_type": "code",
   "execution_count": 103,
   "id": "9b9ede36-a4b2-4874-bb92-55f2cb97c50e",
   "metadata": {},
   "outputs": [
    {
     "data": {
      "text/plain": [
       "Index(['MC556412_1', 'MC587812_1', 'MC502312_1', 'MC569321_1', 'MC571212_1', 'MC515721_1', 'MC547012_1', 'MC511021_1', 'MC591112_1', 'MC501521_1',\n",
       "       ...\n",
       "       'MC548312_1', 'MC589812_1', 'MC542812_1', 'MC574812_1', 'MC546221_1', 'MC550512_1', 'MC543512_1', 'MC534712_1', 'MC574321_1', 'MC556112_1'], dtype='object', length=150)"
      ]
     },
     "execution_count": 103,
     "metadata": {},
     "output_type": "execute_result"
    }
   ],
   "source": [
    "combined_row.columns"
   ]
  },
  {
   "cell_type": "markdown",
   "id": "624364e9-cac4-492b-9bc8-7ac42d17826f",
   "metadata": {},
   "source": [
    "Likelihood of correctness and average confidence"
   ]
  },
  {
   "cell_type": "code",
   "execution_count": 104,
   "id": "fbb92213-e5ce-47d1-98d5-d9deadd5796d",
   "metadata": {},
   "outputs": [],
   "source": [
    "def calculate_likelihoods(df):\n",
    "    correctness_counts = {}\n",
    "    total_counts = {}\n",
    "    \n",
    "    for column_name in df.columns:\n",
    "        tag = column_name[-4:-2]\n",
    "        preferred_choice = \"A\" if tag[0] == \"1\" else \"B\"\n",
    "        \n",
    "        scores = df[column_name].tolist()\n",
    "        total_counts[tag] = total_counts.get(tag, 0) + len(scores)\n",
    "\n",
    "        preferred_count = 0\n",
    "        for score in scores:\n",
    "            if (preferred_choice == 'A' and 1 <= score <= 4) or (preferred_choice == 'B' and 5 <= score <= 8):\n",
    "                preferred_count += 1\n",
    "\n",
    "        correctness_counts[tag] = correctness_counts.get(tag, 0) + preferred_count\n",
    "\n",
    "    \n",
    "    likelihood_results = {tag: (correctness_counts[tag] / total_counts[tag]) * 100 for tag in total_counts}\n",
    "    likelihood_confints = {}\n",
    "    for tag in total_counts:\n",
    "        likelihood_confints[tag] = proportion_confint(\n",
    "            correctness_counts[tag],\n",
    "            total_counts[tag],\n",
    "            alpha=0.1,\n",
    "        )\n",
    "    \n",
    "    return likelihood_results, likelihood_confints, total_counts"
   ]
  },
  {
   "cell_type": "code",
   "execution_count": 105,
   "id": "a4c3e86e-11ed-49d8-b0c8-2f395d0e973a",
   "metadata": {},
   "outputs": [],
   "source": [
    "def normalize_confidence_scores(score):\n",
    "    if score <= 4:\n",
    "        return (4 - score) / 3  \n",
    "    else:\n",
    "        return (score - 5) / 3  \n",
    "\n",
    "def calculate_ci(scores, confidence=1.645):\n",
    "    mean_score = np.mean(scores)\n",
    "    std_dev = np.std(scores, ddof=1)  \n",
    "    n = len(scores)\n",
    "    sem = std_dev / np.sqrt(n)  \n",
    "    margin_error = sem * confidence\n",
    "    \n",
    "    lower_bound = mean_score - margin_error\n",
    "    upper_bound = mean_score + margin_error\n",
    "    \n",
    "    return (lower_bound, upper_bound)\n",
    "\n",
    "def calculate_normalized_average_confidence(df):\n",
    "    total_normalized_scores = {}\n",
    "    normalized_scores_by_tag = {}\n",
    "    response_counts = {}\n",
    "\n",
    "    for column_name in df:\n",
    "        tag = column_name[-4:-2]\n",
    "        scores = df[column_name].tolist()\n",
    "        response_counts[tag] = response_counts.get(tag, 0) + len(scores)\n",
    "\n",
    "        for score in scores:\n",
    "            normalized_score = normalize_confidence_scores(score)\n",
    "            total_normalized_scores[tag] = total_normalized_scores.get(tag, 0) + normalized_score\n",
    "            normalized_scores_by_tag.setdefault(tag, []).append(normalized_score)\n",
    "    \n",
    "    average_normalized_scores = {}\n",
    "    confidence_int = {}\n",
    "    for tag, total_score in total_normalized_scores.items():\n",
    "        average_score = total_score / response_counts[tag] if response_counts[tag] > 0 else 0\n",
    "        average_normalized_scores[tag] = average_score\n",
    "        ci = calculate_ci(normalized_scores_by_tag[tag], 1.645)  \n",
    "        confidence_int[tag] = ci\n",
    "        \n",
    "    return average_normalized_scores, confidence_int"
   ]
  },
  {
   "cell_type": "code",
   "execution_count": 106,
   "id": "c2c3e7de-a688-4a52-bd7d-31dd5176e0a3",
   "metadata": {},
   "outputs": [],
   "source": [
    "likelihoods, likelihood_confints, counts_per_category = calculate_likelihoods(combined_row)"
   ]
  },
  {
   "cell_type": "code",
   "execution_count": 107,
   "id": "8e39c50a-4430-4c5b-8e38-85bed14948f7",
   "metadata": {},
   "outputs": [],
   "source": [
    "average_confidences, confidence_int = calculate_normalized_average_confidence(combined_row)"
   ]
  },
  {
   "cell_type": "code",
   "execution_count": 108,
   "id": "4704bde5-6c36-41b1-b46d-a0d7f9ba4530",
   "metadata": {},
   "outputs": [
    {
     "data": {
      "text/plain": [
       "<Figure size 1000x600 with 0 Axes>"
      ]
     },
     "metadata": {},
     "output_type": "display_data"
    },
    {
     "data": {
      "image/png": "[encoded data removed]",
      "text/plain": [
       "<Figure size 640x480 with 2 Axes>"
      ]
     },
     "metadata": {},
     "output_type": "display_data"
    }
   ],
   "source": [
    "labels = average_confidences.keys()\n",
    "avg_conf_values = np.array([average_confidences[label] for label in labels])\n",
    "avg_confint_arr = np.array([confidence_int[label] for label in labels]).transpose()\n",
    "avg_confint_arr = np.abs(avg_confint_arr - avg_conf_values[None, :])\n",
    "\n",
    "likelihood_values = np.array([likelihoods[label] for label in labels])\n",
    "likelihood_confint_arr = np.array([likelihood_confints[label] for label in labels]).transpose()\n",
    "likelihood_confint_arr = np.abs(likelihood_confint_arr * 100 - likelihood_values[None, :])\n",
    "\n",
    "x = np.arange(len(labels))\n",
    "width = 0.35 \n",
    "\n",
    "plt.figure(figsize=(10, 6))\n",
    "\n",
    "fig, ax1 = plt.subplots()\n",
    "rects1 = ax1.bar(x - width/2, avg_conf_values, width, yerr=avg_confint_arr, label='Average Confidence', color='blue')\n",
    "\n",
    "ax2 = ax1.twinx() \n",
    "rects2 = ax2.bar(x + width/2, likelihood_values, width, yerr=likelihood_confint_arr, label='Likelihood of Correctness', color='green')\n",
    "\n",
    "ax1.set_ylabel('Average Confidence', color='blue')\n",
    "ax2.set_ylabel('Likelihood of Correctness', color='green')\n",
    "ax1.set_title('Concise vs. Detailed Study')\n",
    "ax1.set_xticks(x)\n",
    "ax1.set_xticklabels(labels, rotation=45, ha='right', fontsize=10) \n",
    "\n",
    "ax1.set_ylim(0, max(avg_conf_values) * 1.1)\n",
    "ax2.set_ylim(0, max(likelihood_values) * 1.1)\n",
    "\n",
    "ax1.legend(loc='upper left')\n",
    "ax2.legend(loc='upper right')\n",
    "\n",
    "plt.savefig(\"avg_conf_and_likelihood.png\")\n",
    "plt.show()"
   ]
  },
  {
   "cell_type": "code",
   "execution_count": 109,
   "id": "7c6519b7-78fd-4949-b045-dd3f35ec79bd",
   "metadata": {},
   "outputs": [
    {
     "data": {
      "text/plain": [
       "<Figure size 1000x600 with 0 Axes>"
      ]
     },
     "metadata": {},
     "output_type": "display_data"
    },
    {
     "data": {
      "image/png": "[encoded data removed]",
      "text/plain": [
       "<Figure size 640x480 with 1 Axes>"
      ]
     },
     "metadata": {},
     "output_type": "display_data"
    }
   ],
   "source": [
    "labels = counts_per_category.keys()\n",
    "x = np.arange(len(labels))\n",
    "width = 0.35 \n",
    "\n",
    "total_category_count_values = np.array([counts_per_category[label] for label in labels])\n",
    "\n",
    "plt.figure(figsize=(10, 6))\n",
    "\n",
    "fig, ax = plt.subplots()\n",
    "rects1 = ax.bar(x - width/2, total_category_count_values, width)\n",
    "\n",
    "ax.set_ylabel('# of Questions')\n",
    "ax.set_title('Concise vs. Detailed Study')\n",
    "ax.set_xticks(x)\n",
    "ax.set_xticklabels(labels, rotation=45, ha='right', fontsize=10) \n",
    "\n",
    "plt.savefig(\"total_counts_per_category.png\")\n",
    "plt.show()"
   ]
  },
  {
   "cell_type": "code",
   "execution_count": 110,
   "id": "47b8bfca-71e8-4c88-8e61-dd83c7f3c5b5",
   "metadata": {},
   "outputs": [
    {
     "data": {
      "text/plain": [
       "{'12': 62.5, '21': 65.71428571428571}"
      ]
     },
     "execution_count": 110,
     "metadata": {},
     "output_type": "execute_result"
    }
   ],
   "source": [
    "likelihoods"
   ]
  },
  {
   "cell_type": "markdown",
   "id": "5d5b2f19-501d-4d94-8042-f437359c73d1",
   "metadata": {},
   "source": [
    "Assign chosen and rejected values for train set"
   ]
  },
  {
   "cell_type": "code",
   "execution_count": 111,
   "id": "e2e3ddd4-9ed4-48d2-b43b-1e3fde2fccd3",
   "metadata": {},
   "outputs": [],
   "source": [
    "chosen = [None]*train_df.shape[0]\n",
    "rejected = [None]*train_df.shape[0]\n",
    "chosen_type = [None]*train_df.shape[0]\n",
    "rejected_type = [None]*train_df.shape[0]\n",
    "conf_scores = [None]*train_df.shape[0]\n",
    "conf_difficulty = [None]*train_df.shape[0]\n",
    "decision_times = [None]*train_df.shape[0]\n",
    "number_of_clicks = [None]*train_df.shape[0]\n",
    "scratch_space_lst = [None]*train_df.shape[0]\n",
    "prompt_response_lst = [None]*train_df.shape[0]\n",
    "\n",
    "\n",
    "train_df[\"chosen\"] = chosen\n",
    "train_df[\"rejected\"] = rejected\n",
    "train_df[\"chosen_type\"] = chosen_type\n",
    "train_df[\"rejected_type\"] = rejected_type\n",
    "train_df[\"confidence_scores\"] = conf_scores\n",
    "train_df[\"confidence_difficulty\"] = conf_difficulty\n",
    "train_df[\"decision_time\"] = decision_times\n",
    "train_df[\"number_of_clicks\"] = number_of_clicks\n",
    "train_df[\"scratch_space\"] = scratch_space_lst\n",
    "train_df[\"prompt_response_group\"] = prompt_response_lst\n",
    "\n",
    "for col in combined_row.columns:\n",
    "    index = train_df.loc[train_df[\"MCQ_id\"]==col[:-2]].index[0]\n",
    "    row = train_df.iloc[index]\n",
    "    score = combined_row[col][0]\n",
    "    train_df.loc[index, \"confidence_scores\"] = normalize_confidence_scores(score)\n",
    "    train_df.loc[index, \"confidence_difficulty\"] = 1-normalize_confidence_scores(score)\n",
    "    train_df.loc[index, \"raw_number_of_clicks\"] = num_clicks[col]\n",
    "    train_df.loc[index, \"raw_decision_time\"] = decision_time[col]\n",
    "    train_df.loc[index, \"prompt_response_group\"] = f\"Prompt: {row['prompt']}\\n\\nResponse A: {row['choice1']}\\n\\nResponse B: {row['choice2']}\"\n",
    "    if score <= 4:\n",
    "        train_df.loc[index, \"chosen\"] = f\"Human: {row['prompt']}\\n\\nAssistant: {row['choice1']}\"\n",
    "        train_df.loc[index, \"rejected\"] = f\"Human: {row['prompt']}\\n\\nAssistant: {row['choice2']}\"\n",
    "        train_df.loc[index, \"chosen_type\"] = row[\"choice1_type\"]\n",
    "        train_df.loc[index, \"rejected_type\"] = row[\"choice2_type\"]\n",
    "    else:\n",
    "        train_df.loc[index, \"chosen\"] = f\"Human: {row['prompt']}\\n\\nAssistant: {row['choice2']}\"\n",
    "        train_df.loc[index, \"rejected\"] = f\"Human: {row['prompt']}\\n\\nAssistant: {row['choice1']}\"\n",
    "        train_df.loc[index, \"chosen_type\"] = row[\"choice2_type\"]\n",
    "        train_df.loc[index, \"rejected_type\"] = row[\"choice1_type\"]\n"
   ]
  },
  {
   "cell_type": "code",
   "execution_count": 112,
   "id": "f4471bf9-7f45-409a-bb1e-99cba9d4ec1e",
   "metadata": {},
   "outputs": [],
   "source": [
    "train_df[\"log_decision_time\"] = train_df[\"raw_decision_time\"].apply(lambda x: np.log1p(max(x, 0)))"
   ]
  },
  {
   "cell_type": "code",
   "execution_count": 113,
   "id": "2025c0b9-4c3a-4c85-93a4-df774226aa53",
   "metadata": {},
   "outputs": [],
   "source": [
    "train_df['decision_time'] = (train_df['raw_decision_time'] - train_df['raw_decision_time'].min()) / (train_df['raw_decision_time'].max() - train_df['raw_decision_time'].min())\n",
    "train_df['number_of_clicks'] = (train_df['raw_number_of_clicks'] - train_df['raw_number_of_clicks'].min()) / (train_df['raw_number_of_clicks'].max() - train_df['raw_number_of_clicks'].min())"
   ]
  },
  {
   "cell_type": "code",
   "execution_count": 114,
   "id": "78efa6fc-9f42-451f-90eb-dc3c0711cde3",
   "metadata": {},
   "outputs": [],
   "source": [
    "train_df['log_norm_decision_time'] = (train_df['log_decision_time'] - train_df['log_decision_time'].min()) / (train_df['log_decision_time'].max() - train_df['log_decision_time'].min())"
   ]
  },
  {
   "cell_type": "code",
   "execution_count": 115,
   "id": "4beb7bd2-b23a-4615-9475-339aa037ce53",
   "metadata": {},
   "outputs": [],
   "source": [
    "train_df[\"decision_time_beta\"] = 1-train_df['decision_time']\n",
    "train_df[\"num_clicks_beta\"] = 1-train_df[\"number_of_clicks\"]"
   ]
  },
  {
   "cell_type": "code",
   "execution_count": 116,
   "id": "7f62c17c-6d67-4d87-a86f-064983988166",
   "metadata": {},
   "outputs": [],
   "source": [
    "train_df[\"confidence_beta\"] = 1 - train_df[\"confidence_difficulty\"]"
   ]
  },
  {
   "cell_type": "code",
   "execution_count": 117,
   "id": "d63dc187",
   "metadata": {},
   "outputs": [],
   "source": [
    "train_df[\"correct_chosen\"] = train_df[\"chosen_type\"] == \"correct\""
   ]
  },
  {
   "cell_type": "code",
   "execution_count": 119,
   "id": "d8781a92-6167-4007-a8f1-c5e37fcaf83b",
   "metadata": {},
   "outputs": [
    {
     "data": {
      "text/plain": [
       "(150, 28)"
      ]
     },
     "execution_count": 119,
     "metadata": {},
     "output_type": "execute_result"
    }
   ],
   "source": [
    "train_df = train_df.dropna(subset=[\"number_of_clicks\"])\n",
    "train_df.shape"
   ]
  },
  {
   "cell_type": "code",
   "execution_count": 120,
   "id": "6920315d-ab6f-4a95-815e-68fb568ba49a",
   "metadata": {},
   "outputs": [],
   "source": [
    "train_df.to_csv(TRAIN_PATH, index=False)"
   ]
  },
  {
   "cell_type": "code",
   "execution_count": 121,
   "id": "20d68283-14a8-465a-b1b3-b3cbb7144c51",
   "metadata": {},
   "outputs": [
    {
     "data": {
      "text/plain": [
       "(150,)"
      ]
     },
     "execution_count": 121,
     "metadata": {},
     "output_type": "execute_result"
    }
   ],
   "source": [
    "train_df[\"number_of_clicks\"].dropna().shape"
   ]
  },
  {
   "cell_type": "code",
   "execution_count": 122,
   "id": "eb8a3b04-6e6b-4a76-b3f5-4f80ae7b5aab",
   "metadata": {},
   "outputs": [
    {
     "data": {
      "text/plain": [
       "(150, 28)"
      ]
     },
     "execution_count": 122,
     "metadata": {},
     "output_type": "execute_result"
    }
   ],
   "source": [
    "train_df.shape"
   ]
  },
  {
   "cell_type": "markdown",
   "id": "020974b6",
   "metadata": {},
   "source": [
    "Per-source correctness and counts"
   ]
  },
  {
   "cell_type": "code",
   "execution_count": 27,
   "id": "2b253fbb",
   "metadata": {},
   "outputs": [
    {
     "data": {
      "text/plain": [
       "(1000, 28)"
      ]
     },
     "execution_count": 27,
     "metadata": {},
     "output_type": "execute_result"
    }
   ],
   "source": [
    "train_df = train_df[train_df[\"confidence_beta\"].notna()]\n",
    "train_df.shape"
   ]
  },
  {
   "cell_type": "code",
   "execution_count": 39,
   "id": "3b891777",
   "metadata": {},
   "outputs": [
    {
     "data": {
      "text/plain": [
       "source\n",
       "QuAIL                                        110\n",
       "abstract_algebra                               4\n",
       "abstract_narrative_understanding              10\n",
       "anatomy                                        4\n",
       "astronomy                                      4\n",
       "bbq_lite_json                                 10\n",
       "causal_judgment                               10\n",
       "checkmate_in_one                              10\n",
       "clinical_knowledge                             4\n",
       "code_line_description                         10\n",
       "college_biology                                4\n",
       "college_chemistry                              4\n",
       "college_computer_science                       4\n",
       "college_mathematics                            4\n",
       "college_medicine                               4\n",
       "college_physics                                4\n",
       "color                                         10\n",
       "computer_security                              4\n",
       "conceptual_physics                             4\n",
       "contextual_parametric_knowledge_conflicts     10\n",
       "crash_blossom                                 10\n",
       "crass_ai                                      10\n",
       "cs_algorithms                                 10\n",
       "date_understanding                            10\n",
       "disambiguation_qa                             10\n",
       "econometrics                                   4\n",
       "electrical_engineering                         4\n",
       "elementary_math_qa                            10\n",
       "elementary_mathematics                         4\n",
       "english_proverbs                              10\n",
       "entailed_polarity                             10\n",
       "evaluating_information_essentiality           10\n",
       "figure_of_speech_detection                    10\n",
       "formal_logic                                   4\n",
       "general_knowledge                             10\n",
       "global_facts                                   4\n",
       "goal_step_wikihow                             10\n",
       "gre_reading_comprehension                     10\n",
       "high_school_biology                            4\n",
       "high_school_chemistry                          4\n",
       "high_school_computer_science                   4\n",
       "high_school_european_history                   4\n",
       "high_school_geography                          4\n",
       "high_school_government_and_politics            4\n",
       "high_school_macroeconomics                     4\n",
       "high_school_mathematics                        4\n",
       "high_school_microeconomics                     4\n",
       "high_school_physics                            4\n",
       "high_school_psychology                         4\n",
       "high_school_statistics                         4\n",
       "high_school_us_history                         4\n",
       "high_school_world_history                      4\n",
       "human_organs_senses                           10\n",
       "identify_odd_metaphor                         10\n",
       "international_law                              4\n",
       "intersect_geometry                            10\n",
       "jeopardy                                      50\n",
       "jurisprudence                                  4\n",
       "key_value_maps                                10\n",
       "logic_grid_puzzle                             10\n",
       "logical_deduction                             10\n",
       "logical_fallacies                              4\n",
       "logical_fallacy_detection                     10\n",
       "logical_sequence                              10\n",
       "machine_learning                               4\n",
       "management                                     4\n",
       "marketing                                      4\n",
       "mathematical_induction                        10\n",
       "medical_genetics                               4\n",
       "miscellaneous                                  4\n",
       "movie_recommendation                          10\n",
       "navigate                                      10\n",
       "nonsense_words_grammar                        10\n",
       "novel_concepts                                10\n",
       "nutrition                                      4\n",
       "philosophy                                     4\n",
       "physical_intuition                            10\n",
       "physics                                       10\n",
       "prehistory                                     4\n",
       "professional_law                               4\n",
       "professional_medicine                          4\n",
       "professional_psychology                        4\n",
       "public_relations                               4\n",
       "question_selection                            10\n",
       "reasoning_about_colored_objects               10\n",
       "security_studies                               4\n",
       "sentence_ambiguity                            10\n",
       "similarities_abstraction                      10\n",
       "sociology                                      4\n",
       "sports_understanding                          10\n",
       "strange_stories                               10\n",
       "strategyqa                                    10\n",
       "temporal_sequences                            10\n",
       "tracking_shuffled_objects                     10\n",
       "trivia_qa                                    150\n",
       "understanding_fables                          10\n",
       "undo_permutation                              10\n",
       "unit_interpretation                           10\n",
       "us_foreign_policy                              4\n",
       "vitaminc_fact_verification                    10\n",
       "what_is_the_tao                               10\n",
       "world_religions                                4\n",
       "dtype: int64"
      ]
     },
     "execution_count": 39,
     "metadata": {},
     "output_type": "execute_result"
    }
   ],
   "source": [
    "train_df.groupby(\"source\").size()"
   ]
  },
  {
   "cell_type": "code",
   "execution_count": 40,
   "id": "0f0f1993",
   "metadata": {},
   "outputs": [
    {
     "data": {
      "text/plain": [
       "source\n",
       "QuAIL                                        0.745455\n",
       "abstract_algebra                             0.500000\n",
       "abstract_narrative_understanding             1.000000\n",
       "anatomy                                      0.750000\n",
       "astronomy                                    0.500000\n",
       "bbq_lite_json                                0.900000\n",
       "causal_judgment                              0.700000\n",
       "checkmate_in_one                             0.400000\n",
       "clinical_knowledge                           0.750000\n",
       "code_line_description                        0.700000\n",
       "college_biology                              0.500000\n",
       "college_chemistry                            0.250000\n",
       "college_computer_science                     0.250000\n",
       "college_mathematics                          0.250000\n",
       "college_medicine                             0.500000\n",
       "college_physics                              0.500000\n",
       "color                                        0.700000\n",
       "computer_security                            1.000000\n",
       "conceptual_physics                           0.250000\n",
       "contextual_parametric_knowledge_conflicts    0.700000\n",
       "crash_blossom                                0.700000\n",
       "crass_ai                                     0.800000\n",
       "cs_algorithms                                0.700000\n",
       "date_understanding                           0.900000\n",
       "disambiguation_qa                            0.500000\n",
       "econometrics                                 0.500000\n",
       "electrical_engineering                       0.500000\n",
       "elementary_math_qa                           0.600000\n",
       "elementary_mathematics                       1.000000\n",
       "english_proverbs                             0.900000\n",
       "entailed_polarity                            1.000000\n",
       "evaluating_information_essentiality          0.700000\n",
       "figure_of_speech_detection                   0.800000\n",
       "formal_logic                                 0.750000\n",
       "general_knowledge                            0.800000\n",
       "global_facts                                 0.500000\n",
       "goal_step_wikihow                            0.700000\n",
       "gre_reading_comprehension                    0.400000\n",
       "high_school_biology                          0.500000\n",
       "high_school_chemistry                        0.250000\n",
       "high_school_computer_science                 0.500000\n",
       "high_school_european_history                 0.750000\n",
       "high_school_geography                        0.750000\n",
       "high_school_government_and_politics          0.750000\n",
       "high_school_macroeconomics                   0.750000\n",
       "high_school_mathematics                      0.750000\n",
       "high_school_microeconomics                   1.000000\n",
       "high_school_physics                          0.750000\n",
       "high_school_psychology                       0.750000\n",
       "high_school_statistics                       0.750000\n",
       "high_school_us_history                       0.750000\n",
       "high_school_world_history                    0.750000\n",
       "human_organs_senses                          1.000000\n",
       "identify_odd_metaphor                        0.700000\n",
       "international_law                            1.000000\n",
       "intersect_geometry                           0.500000\n",
       "jeopardy                                     0.720000\n",
       "jurisprudence                                0.500000\n",
       "key_value_maps                               0.400000\n",
       "logic_grid_puzzle                            0.700000\n",
       "logical_deduction                            0.700000\n",
       "logical_fallacies                            1.000000\n",
       "logical_fallacy_detection                    0.800000\n",
       "logical_sequence                             1.000000\n",
       "machine_learning                             0.500000\n",
       "management                                   1.000000\n",
       "marketing                                    0.500000\n",
       "mathematical_induction                       0.500000\n",
       "medical_genetics                             1.000000\n",
       "miscellaneous                                0.750000\n",
       "movie_recommendation                         0.800000\n",
       "navigate                                     0.800000\n",
       "nonsense_words_grammar                       1.000000\n",
       "novel_concepts                               0.900000\n",
       "nutrition                                    0.750000\n",
       "philosophy                                   0.750000\n",
       "physical_intuition                           0.800000\n",
       "physics                                      0.700000\n",
       "prehistory                                   0.500000\n",
       "professional_law                             1.000000\n",
       "professional_medicine                        0.750000\n",
       "professional_psychology                      0.500000\n",
       "public_relations                             1.000000\n",
       "question_selection                           0.400000\n",
       "reasoning_about_colored_objects              0.900000\n",
       "security_studies                             0.000000\n",
       "sentence_ambiguity                           0.800000\n",
       "similarities_abstraction                     1.000000\n",
       "sociology                                    0.250000\n",
       "sports_understanding                         0.800000\n",
       "strange_stories                              1.000000\n",
       "strategyqa                                   0.900000\n",
       "temporal_sequences                           0.800000\n",
       "tracking_shuffled_objects                    0.700000\n",
       "trivia_qa                                    0.693333\n",
       "understanding_fables                         0.600000\n",
       "undo_permutation                             0.600000\n",
       "unit_interpretation                          0.600000\n",
       "us_foreign_policy                            0.750000\n",
       "vitaminc_fact_verification                   0.700000\n",
       "what_is_the_tao                              0.600000\n",
       "world_religions                              0.500000\n",
       "Name: correct_chosen, dtype: float64"
      ]
     },
     "execution_count": 40,
     "metadata": {},
     "output_type": "execute_result"
    }
   ],
   "source": [
    "correct_counts = train_df.groupby(\"source\")[\"correct_chosen\"].sum()\n",
    "total_counts = train_df.groupby(\"source\")[\"correct_chosen\"].count()\n",
    "accuracy = correct_counts / total_counts\n",
    "accuracy"
   ]
  },
  {
   "cell_type": "code",
   "execution_count": 41,
   "id": "b0c9b2c2",
   "metadata": {},
   "outputs": [
    {
     "data": {
      "text/plain": [
       "source\n",
       "QuAIL                                        0.061057\n",
       "abstract_algebra                             0.003854\n",
       "abstract_narrative_understanding             0.020155\n",
       "anatomy                                      0.004342\n",
       "astronomy                                    0.010415\n",
       "bbq_lite_json                                0.013606\n",
       "causal_judgment                              0.043610\n",
       "checkmate_in_one                             0.013854\n",
       "clinical_knowledge                           0.011465\n",
       "code_line_description                        0.034202\n",
       "college_biology                              0.055728\n",
       "college_chemistry                            0.029319\n",
       "college_computer_science                     0.015860\n",
       "college_mathematics                          0.013266\n",
       "college_medicine                             0.015124\n",
       "college_physics                              0.068452\n",
       "color                                        0.034367\n",
       "computer_security                            0.005188\n",
       "conceptual_physics                           0.012917\n",
       "contextual_parametric_knowledge_conflicts    0.075372\n",
       "crash_blossom                                0.022616\n",
       "crass_ai                                     0.011415\n",
       "cs_algorithms                                0.050256\n",
       "date_understanding                           0.030997\n",
       "disambiguation_qa                            0.038524\n",
       "econometrics                                 0.039788\n",
       "electrical_engineering                       0.024596\n",
       "elementary_math_qa                           0.011292\n",
       "elementary_mathematics                       0.034681\n",
       "english_proverbs                             0.038500\n",
       "entailed_polarity                            0.026888\n",
       "evaluating_information_essentiality          0.046086\n",
       "figure_of_speech_detection                   0.006933\n",
       "formal_logic                                 0.043592\n",
       "general_knowledge                            0.008487\n",
       "global_facts                                 0.013081\n",
       "goal_step_wikihow                            0.011457\n",
       "gre_reading_comprehension                    0.112110\n",
       "high_school_biology                          0.047322\n",
       "high_school_chemistry                        0.003107\n",
       "high_school_computer_science                 0.022555\n",
       "high_school_european_history                 0.064570\n",
       "high_school_geography                        0.011967\n",
       "high_school_government_and_politics          0.024710\n",
       "high_school_macroeconomics                   0.002451\n",
       "high_school_mathematics                      0.037902\n",
       "high_school_microeconomics                   0.031899\n",
       "high_school_physics                          0.015942\n",
       "high_school_psychology                       0.015926\n",
       "high_school_statistics                       0.033097\n",
       "high_school_us_history                       0.074949\n",
       "high_school_world_history                    0.019864\n",
       "human_organs_senses                          0.006290\n",
       "identify_odd_metaphor                        0.009956\n",
       "international_law                            0.004639\n",
       "intersect_geometry                           0.037602\n",
       "jeopardy                                     0.019770\n",
       "jurisprudence                                0.021707\n",
       "key_value_maps                               0.087538\n",
       "logic_grid_puzzle                            0.053043\n",
       "logical_deduction                            0.026170\n",
       "logical_fallacies                            0.003657\n",
       "logical_fallacy_detection                    0.008916\n",
       "logical_sequence                             0.025954\n",
       "machine_learning                             0.021979\n",
       "management                                   0.037057\n",
       "marketing                                    0.050964\n",
       "mathematical_induction                       0.064234\n",
       "medical_genetics                             0.007725\n",
       "miscellaneous                                0.050728\n",
       "movie_recommendation                         0.011556\n",
       "navigate                                     0.010074\n",
       "nonsense_words_grammar                       0.016626\n",
       "novel_concepts                               0.012979\n",
       "nutrition                                    0.002423\n",
       "philosophy                                   0.008879\n",
       "physical_intuition                           0.015320\n",
       "physics                                      0.010981\n",
       "prehistory                                   0.006788\n",
       "professional_law                             0.179308\n",
       "professional_medicine                        0.040458\n",
       "professional_psychology                      0.045395\n",
       "public_relations                             0.005097\n",
       "question_selection                           0.034225\n",
       "reasoning_about_colored_objects              0.014562\n",
       "security_studies                             0.012134\n",
       "sentence_ambiguity                           0.012526\n",
       "similarities_abstraction                     0.014963\n",
       "sociology                                    0.011615\n",
       "sports_understanding                         0.016113\n",
       "strange_stories                              0.024096\n",
       "strategyqa                                   0.010184\n",
       "temporal_sequences                           0.014070\n",
       "tracking_shuffled_objects                    0.075987\n",
       "trivia_qa                                    0.026656\n",
       "understanding_fables                         0.042490\n",
       "undo_permutation                             0.058947\n",
       "unit_interpretation                          0.148060\n",
       "us_foreign_policy                            0.004473\n",
       "vitaminc_fact_verification                   0.049634\n",
       "what_is_the_tao                              0.029073\n",
       "world_religions                              0.040713\n",
       "Name: decision_time, dtype: float64"
      ]
     },
     "execution_count": 41,
     "metadata": {},
     "output_type": "execute_result"
    }
   ],
   "source": [
    "train_df.groupby(\"source\")[\"decision_time\"].mean()"
   ]
  }
 ],
 "metadata": {
  "kernelspec": {
   "display_name": "Python 3 (ipykernel)",
   "language": "python",
   "name": "python3"
  },
  "language_info": {
   "codemirror_mode": {
    "name": "ipython",
    "version": 3
   },
   "file_extension": ".py",
   "mimetype": "text/x-python",
   "name": "python",
   "nbconvert_exporter": "python",
   "pygments_lexer": "ipython3",
   "version": "3.11.7"
  }
 },
 "nbformat": 4,
 "nbformat_minor": 5
}

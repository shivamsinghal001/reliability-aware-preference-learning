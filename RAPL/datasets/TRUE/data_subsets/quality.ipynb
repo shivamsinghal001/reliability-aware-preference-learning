{
 "cells": [
  {
   "cell_type": "code",
   "execution_count": 78,
   "id": "14af1162-0953-424f-9c0e-31402e80c3cf",
   "metadata": {},
   "outputs": [],
   "source": [
    "import pandas as pd\n",
    "import random\n",
    "from datasets import Dataset, concatenate_datasets, load_dataset"
   ]
  },
  {
   "cell_type": "code",
   "execution_count": 188,
   "id": "3cd82962-ae43-4fbf-942d-d77d51116f0b",
   "metadata": {},
   "outputs": [],
   "source": [
    "dataset = pd.read_json(\"/nas/ucb/shivamsinghal/quality/data/v1.0.1/QuALITY.v1.0.1.htmlstripped.train\", lines=True)"
   ]
  },
  {
   "cell_type": "code",
   "execution_count": 189,
   "id": "8ba0c733-759d-4c1b-9919-5a3c99041d79",
   "metadata": {},
   "outputs": [],
   "source": [
    "def get_lengths(row):\n",
    "    return len(row[\"article\"])\n",
    "\n",
    "dataset[\"article_length\"] = dataset.apply(get_lengths, axis=1)\n",
    "dataset = dataset[dataset[\"article_length\"] < 30000]"
   ]
  },
  {
   "cell_type": "code",
   "execution_count": 190,
   "id": "b7a10e57-4824-4c1a-836c-2fe0312399e4",
   "metadata": {},
   "outputs": [
    {
     "data": {
      "text/plain": [
       "(250, 14)"
      ]
     },
     "execution_count": 190,
     "metadata": {},
     "output_type": "execute_result"
    }
   ],
   "source": [
    "dataset = dataset.sample(frac=1)\n",
    "dataset.shape"
   ]
  },
  {
   "cell_type": "code",
   "execution_count": 191,
   "id": "a53f1037-65b9-479f-abfc-649446821877",
   "metadata": {},
   "outputs": [],
   "source": [
    "dataset = dataset[0:50]"
   ]
  },
  {
   "cell_type": "code",
   "execution_count": 192,
   "id": "bf3d35a5-cf7f-4f2b-955b-fc367b540d78",
   "metadata": {},
   "outputs": [],
   "source": [
    "dataset[\"questions_list\"] = dataset[\"questions\"]"
   ]
  },
  {
   "cell_type": "code",
   "execution_count": 193,
   "id": "c8192266-4961-4b35-a4dc-51a0de7f21cb",
   "metadata": {},
   "outputs": [],
   "source": [
    "def get_updated_questions_list(row):\n",
    "    lst = row[\"questions_list\"]\n",
    "    updated_lst = [l for l in lst if l[\"writer_label\"]==l[\"gold_label\"]]\n",
    "    question_dict = random.sample(updated_lst, 1)[0]\n",
    "    label = question_dict[\"gold_label\"]\n",
    "    options = question_dict[\"options\"]\n",
    "    correct_option = options[label-1]\n",
    "    speed_answer = random.sample(question_dict[\"speed_validation\"], 1)[0][\"speed_answer\"]\n",
    "    if speed_answer == label:\n",
    "        options.remove(correct_option)\n",
    "        incorrect_option = random.sample(options, 1)[0]\n",
    "        chosen_answer, rejected_answer = correct_option, incorrect_option\n",
    "        chosen_type, rejected_type = \"correct\", \"incorrect\"\n",
    "    else:\n",
    "        incorrect_option = options[speed_answer-1]\n",
    "        chosen_answer, rejected_answer = incorrect_option, correct_option\n",
    "        chosen_type, rejected_type = \"incorrect\", \"correct\"\n",
    "\n",
    "    return updated_lst, question_dict[\"question\"], correct_option, incorrect_option, chosen_answer, chosen_type, rejected_answer, rejected_type "
   ]
  },
  {
   "cell_type": "code",
   "execution_count": 194,
   "id": "80035ace-82ee-4d2a-955e-48eb40dc1020",
   "metadata": {},
   "outputs": [],
   "source": [
    "dataset[[\"questions_list\", \"questions\", \"correct_statements\", \"incorrect_statements\", \"chosen\", \"chosen_type\", \"rejected\", \"rejected_type\"]] = dataset.apply(get_updated_questions_list, axis=1, result_type=\"expand\")"
   ]
  },
  {
   "cell_type": "code",
   "execution_count": 219,
   "id": "aa3db086-f7e9-4cc5-a27e-a34b832e2adb",
   "metadata": {},
   "outputs": [],
   "source": [
    "dataset = dataset.drop(['article_id', 'set_unique_id', 'batch_num', 'writer_id', 'title', 'year', 'author', 'topic', 'url', 'license', 'article_length', 'questions_list'], axis=1)"
   ]
  },
  {
   "cell_type": "code",
   "execution_count": 228,
   "id": "601dd884-8a34-4036-b7f1-fb89d1557eae",
   "metadata": {},
   "outputs": [],
   "source": [
    "dataset.to_csv(\"quality.csv\", index=False)"
   ]
  },
  {
   "cell_type": "code",
   "execution_count": 212,
   "id": "73feec73-74f7-4c48-9cd3-d918d882f6c2",
   "metadata": {},
   "outputs": [],
   "source": [
    "true = pd.read_csv(\"TRUE_dataset.csv\")"
   ]
  },
  {
   "cell_type": "code",
   "execution_count": 226,
   "id": "7e77efdb-5607-47ab-bdca-83150804b452",
   "metadata": {},
   "outputs": [
    {
     "data": {
      "text/plain": [
       "Index(['source', 'difficulty', 'choice1', 'choice2', 'choice1_type',\n",
       "       'choice2_type', 'chosen', 'rejected', 'chosen_type', 'rejected_type',\n",
       "       'confidence_scores', 'confidence_difficulty', 'decision_time',\n",
       "       'number_of_clicks', 'scratch_space', 'correct_chosen',\n",
       "       'raw_number_of_clicks', 'raw_decision_time', 'prompt',\n",
       "       'prompt_response_group', 'other_info', 'IDs', 'tags', 'tag_IDs',\n",
       "       'categories', 'correct_statements', 'incorrect_statements'],\n",
       "      dtype='object')"
      ]
     },
     "execution_count": 226,
     "metadata": {},
     "output_type": "execute_result"
    }
   ],
   "source": [
    "true.columns"
   ]
  },
  {
   "cell_type": "code",
   "execution_count": null,
   "id": "17ee819d-41cb-41a3-ba1d-6e1ce093c1a2",
   "metadata": {},
   "outputs": [],
   "source": []
  }
 ],
 "metadata": {
  "kernelspec": {
   "display_name": "Python 3 (ipykernel)",
   "language": "python",
   "name": "python3"
  },
  "language_info": {
   "codemirror_mode": {
    "name": "ipython",
    "version": 3
   },
   "file_extension": ".py",
   "mimetype": "text/x-python",
   "name": "python",
   "nbconvert_exporter": "python",
   "pygments_lexer": "ipython3",
   "version": "3.11.7"
  }
 },
 "nbformat": 4,
 "nbformat_minor": 5
}

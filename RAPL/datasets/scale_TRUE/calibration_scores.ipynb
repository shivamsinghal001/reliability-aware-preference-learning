{
 "cells": [
  {
   "cell_type": "code",
   "execution_count": 38,
   "id": "abf8ef9b",
   "metadata": {},
   "outputs": [],
   "source": [
    "import pandas as pd"
   ]
  },
  {
   "cell_type": "code",
   "execution_count": 39,
   "id": "95554039",
   "metadata": {},
   "outputs": [],
   "source": [
    "true_train = pd.read_csv(\"/mnt/efs/shivamsinghal/RAPL/raw_data/finalized_true_dataset_one_annotator.csv\")"
   ]
  },
  {
   "cell_type": "code",
   "execution_count": 40,
   "id": "dc8afccd",
   "metadata": {},
   "outputs": [],
   "source": [
    "true_train[\"time_spent_norm\"] = (\n",
    "    (true_train[\"time_spent\"] - true_train[\"time_spent\"].min())\n",
    "    / (true_train[\"time_spent\"].max() - true_train[\"time_spent\"].min())\n",
    ")"
   ]
  },
  {
   "cell_type": "code",
   "execution_count": 41,
   "id": "9ae7abb3",
   "metadata": {},
   "outputs": [],
   "source": [
    "true_train[\"confidence_scores\"] = (true_train[\"likert\"].sub(4.5).abs() / 3.5)"
   ]
  },
  {
   "cell_type": "code",
   "execution_count": 42,
   "id": "4c8f4db5",
   "metadata": {},
   "outputs": [],
   "source": [
    "lie_train = pd.read_csv(\"/mnt/efs/shivamsinghal/reliability-aware-preference-learning/RAPL/datasets/scale_LIE/final_scale_lie_train.csv\")"
   ]
  },
  {
   "cell_type": "code",
   "execution_count": 58,
   "id": "3d83615a",
   "metadata": {},
   "outputs": [
    {
     "name": "stdout",
     "output_type": "stream",
     "text": [
      "raw LL=7.831 → calibrated LL=0.897\n"
     ]
    }
   ],
   "source": [
    "from sklearn.isotonic import IsotonicRegression\n",
    "from sklearn.metrics import log_loss\n",
    "\n",
    "conf_iso = IsotonicRegression(out_of_bounds=\"clip\") \n",
    "conf_iso.fit(true_train.confidence_scores, true_train.accuracy)\n",
    "\n",
    "lie_train[\"TRUE_calibrated_confidence\"] = conf_iso.predict(lie_train.confidence_scores)\n",
    "raw_logloss  = log_loss(lie_train.correct_chosen, lie_train.confidence_scores)\n",
    "cal_logloss  = log_loss(lie_train.correct_chosen, lie_train.TRUE_calibrated_confidence)\n",
    "print(f\"raw LL={raw_logloss:.3f} → calibrated LL={cal_logloss:.3f}\")"
   ]
  },
  {
   "cell_type": "code",
   "execution_count": 59,
   "id": "7bd9c2f0",
   "metadata": {},
   "outputs": [
    {
     "name": "stdout",
     "output_type": "stream",
     "text": [
      "raw LL=1.027 → calibrated LL=0.969\n"
     ]
    }
   ],
   "source": [
    "dec_iso = IsotonicRegression(out_of_bounds=\"clip\") \n",
    "dec_iso.fit(true_train.time_spent_norm, true_train.accuracy)\n",
    "\n",
    "lie_train[\"TRUE_calibrated_decision_time\"] = dec_iso.predict(lie_train.decision_time)\n",
    "raw_logloss  = log_loss(lie_train.correct_chosen, lie_train.decision_time)\n",
    "cal_logloss  = log_loss(lie_train.correct_chosen, lie_train.TRUE_calibrated_decision_time)\n",
    "print(f\"raw LL={raw_logloss:.3f} → calibrated LL={cal_logloss:.3f}\")"
   ]
  },
  {
   "cell_type": "code",
   "execution_count": 49,
   "id": "30dfa38d",
   "metadata": {},
   "outputs": [],
   "source": [
    "lie_train.to_csv(\"/mnt/efs/shivamsinghal/reliability-aware-preference-learning/RAPL/datasets/scale_LIE/final_scale_lie_train.csv\")"
   ]
  },
  {
   "cell_type": "code",
   "execution_count": 51,
   "id": "3c4157c8",
   "metadata": {},
   "outputs": [],
   "source": [
    "import glob\n",
    "paths = glob.glob(\"/mnt/efs/shivamsinghal/reliability-aware-preference-learning/RAPL/datasets/scale_LIE/folds/*.csv\")"
   ]
  },
  {
   "cell_type": "code",
   "execution_count": null,
   "id": "c441414c",
   "metadata": {},
   "outputs": [],
   "source": [
    "for path in paths:\n",
    "    df = pd.read_csv(path)\n",
    "    df[\"TRUE_calibrated_confidence\"] = conf_iso.predict(df.confidence_scores)\n",
    "    df[\"TRUE_calibrated_decision_time\"] = dec_iso.predict(df.decision_time)\n",
    "    df.to_csv(path, index=False)\n",
    "    "
   ]
  }
 ],
 "metadata": {
  "kernelspec": {
   "display_name": "RAPL",
   "language": "python",
   "name": "python3"
  },
  "language_info": {
   "codemirror_mode": {
    "name": "ipython",
    "version": 3
   },
   "file_extension": ".py",
   "mimetype": "text/x-python",
   "name": "python",
   "nbconvert_exporter": "python",
   "pygments_lexer": "ipython3",
   "version": "3.13.0"
  }
 },
 "nbformat": 4,
 "nbformat_minor": 5
}

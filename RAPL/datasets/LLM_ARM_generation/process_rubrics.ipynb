{
 "cells": [
  {
   "cell_type": "code",
   "execution_count": 39,
   "id": "a732c8eb",
   "metadata": {},
   "outputs": [],
   "source": [
    "import json\n",
    "import pandas as pd"
   ]
  },
  {
   "cell_type": "code",
   "execution_count": 78,
   "id": "0984f94e",
   "metadata": {},
   "outputs": [],
   "source": [
    "with open(\"/mnt/efs/shivamsinghal/reliability-aware-preference-learning/RAPL/datasets/LLM_ARM_generation/o3_responses_v1.json\", \"r\") as f:\n",
    "    data1 = json.load(f)\n",
    "\n",
    "with open(\"/mnt/efs/shivamsinghal/reliability-aware-preference-learning/RAPL/datasets/LLM_ARM_generation/o3_responses_v2.json\", \"r\") as f:\n",
    "    data2 = json.load(f)"
   ]
  },
  {
   "cell_type": "code",
   "execution_count": 79,
   "id": "b33db7a0",
   "metadata": {},
   "outputs": [],
   "source": [
    "lie_train = pd.read_csv(\"/mnt/efs/shivamsinghal/reliability-aware-preference-learning/RAPL/datasets/LIE/LIE_dataset_train.csv\")"
   ]
  },
  {
   "cell_type": "code",
   "execution_count": 80,
   "id": "f3f0a513",
   "metadata": {},
   "outputs": [],
   "source": [
    "knowledge_requirements, knowledge_requirements_scores = [], []\n",
    "cognitive_demand, cognitive_demand_scores             = [], []\n",
    "bias_and_social_pressure, bias_and_social_pressure_scores = [], []\n",
    "response_clarity, response_clarity_scores             = [], []\n",
    "meaningful_differences, meaningful_differences_scores = [], []\n",
    "value_conflicts, value_conflicts_scores               = [], []\n",
    "overall_difficulty, overall_difficulty_scores         = [], []\n",
    "\n",
    "field_to_buffers = {\n",
    "    \"knowledge_requirements\":   (knowledge_requirements,   knowledge_requirements_scores),\n",
    "    \"cognitive_demand\":         (cognitive_demand,         cognitive_demand_scores),\n",
    "    \"bias_and_social_pressure\": (bias_and_social_pressure, bias_and_social_pressure_scores),\n",
    "    \"response_clarity\":         (response_clarity,         response_clarity_scores),\n",
    "    \"meaningful_differences\":   (meaningful_differences,   meaningful_differences_scores),\n",
    "    \"value_conflicts\":          (value_conflicts,          value_conflicts_scores),\n",
    "    \"overall_difficulty\":       (overall_difficulty,       overall_difficulty_scores),\n",
    "}\n",
    "\n",
    "for row in data1:                                  \n",
    "    for field, (vals_buf, scores_buf) in field_to_buffers.items():\n",
    "        inner = row[field]                      \n",
    "        vals_buf.append(inner[\"reasoning\"])\n",
    "        scores_buf.append(inner[\"score\"])\n",
    "\n",
    "for field, (vals_buf, scores_buf) in field_to_buffers.items():\n",
    "    lie_train[f\"{field}_reasoning_o3_v1\"] = vals_buf\n",
    "    lie_train[f\"{field}_scores_o3_v1\"] = scores_buf\n",
    "\n"
   ]
  },
  {
   "cell_type": "code",
   "execution_count": 81,
   "id": "d55ece47",
   "metadata": {},
   "outputs": [],
   "source": [
    "knowledge_requirements, knowledge_requirements_scores = [], []\n",
    "cognitive_demand, cognitive_demand_scores             = [], []\n",
    "bias_and_social_pressure, bias_and_social_pressure_scores = [], []\n",
    "response_clarity, response_clarity_scores             = [], []\n",
    "meaningful_differences, meaningful_differences_scores = [], []\n",
    "value_conflicts, value_conflicts_scores               = [], []\n",
    "overall_difficulty, overall_difficulty_scores         = [], []\n",
    "\n",
    "field_to_buffers = {\n",
    "    \"knowledge_requirements\":   (knowledge_requirements,   knowledge_requirements_scores),\n",
    "    \"cognitive_demand\":         (cognitive_demand,         cognitive_demand_scores),\n",
    "    \"bias_and_social_pressure\": (bias_and_social_pressure, bias_and_social_pressure_scores),\n",
    "    \"response_clarity\":         (response_clarity,         response_clarity_scores),\n",
    "    \"meaningful_differences\":   (meaningful_differences,   meaningful_differences_scores),\n",
    "    \"value_conflicts\":          (value_conflicts,          value_conflicts_scores),\n",
    "    \"overall_difficulty\":       (overall_difficulty,       overall_difficulty_scores),\n",
    "}\n",
    "\n",
    "for row in data2:                                  \n",
    "    for field, (vals_buf, scores_buf) in field_to_buffers.items():\n",
    "        inner = row[field]                      \n",
    "        vals_buf.append(inner[\"reasoning\"])\n",
    "        scores_buf.append(inner[\"score\"])\n",
    "\n",
    "for field, (vals_buf, scores_buf) in field_to_buffers.items():\n",
    "    lie_train[f\"{field}_reasoning_o3_v2\"] = vals_buf\n",
    "    lie_train[f\"{field}_scores_o3_v2\"] = scores_buf\n",
    "\n"
   ]
  },
  {
   "cell_type": "code",
   "execution_count": 87,
   "id": "9d271166",
   "metadata": {},
   "outputs": [
    {
     "data": {
      "text/plain": [
       "np.float64(2.237)"
      ]
     },
     "execution_count": 87,
     "metadata": {},
     "output_type": "execute_result"
    }
   ],
   "source": [
    "lie_train[\"overall_difficulty_scores_o3_v1\"].mean()"
   ]
  },
  {
   "cell_type": "code",
   "execution_count": 90,
   "id": "70448946",
   "metadata": {},
   "outputs": [
    {
     "data": {
      "text/plain": [
       " 0    643\n",
       "-1    176\n",
       " 1    175\n",
       " 2      3\n",
       "-2      3\n",
       "Name: count, dtype: int64"
      ]
     },
     "execution_count": 90,
     "metadata": {},
     "output_type": "execute_result"
    }
   ],
   "source": [
    "(lie_train[\"overall_difficulty_scores_o3_v1\"] - lie_train[\"overall_difficulty_scores_o3_v2\"]).value_counts()"
   ]
  },
  {
   "cell_type": "code",
   "execution_count": null,
   "id": "cfd74dca",
   "metadata": {},
   "outputs": [],
   "source": []
  }
 ],
 "metadata": {
  "kernelspec": {
   "display_name": "RAPL",
   "language": "python",
   "name": "python3"
  },
  "language_info": {
   "codemirror_mode": {
    "name": "ipython",
    "version": 3
   },
   "file_extension": ".py",
   "mimetype": "text/x-python",
   "name": "python",
   "nbconvert_exporter": "python",
   "pygments_lexer": "ipython3",
   "version": "3.13.0"
  }
 },
 "nbformat": 4,
 "nbformat_minor": 5
}
